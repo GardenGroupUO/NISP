{
 "cells": [
  {
   "cell_type": "markdown",
   "id": "subject-garlic",
   "metadata": {},
   "source": [
    "# A Basic Example for performing an interpolation scheme with NISP"
   ]
  },
  {
   "cell_type": "markdown",
   "id": "civic-meditation",
   "metadata": {},
   "source": [
    "[Back To Table of Contents](../Organisms_Jupyter_Example.ipynb)"
   ]
  },
  {
   "cell_type": "markdown",
   "id": "concrete-combat",
   "metadata": {},
   "source": [
    "In this example, we will perform an interpolation of Au clusters. We will go through all the components of the *Interpolation_Script.py* files required to run NISP on Au, step by step. See [nisp.readthedocs.io/en/latest/How_To_Run_NISP.html](https://nisp.readthedocs.io/en/latest/How_To_Run_NISP.html) for more information on the *Interpolation_Script.py* file.\n",
    "\n",
    "To run this notebook step by step, press the $\\blacktriangleright$ button sequentially on the python code you want to run. You can find the $\\blacktriangleright$ button in the menu bar above. Make sure you have run $\\blacktriangleright$ on every cell before running the ``GA_Program`` execution cell. Equivalently, press the $\\blacktriangleright\\blacktriangleright$ button to completely run this *Run.py* file from beginning to end. You can also find the $\\blacktriangleright\\blacktriangleright$ button in the menu bar above. Jupyter will display a box that will ask you if you want to restart the kernal. Press the <img src=\"../Images/Restart_button.svg\" alt=\"Restart_Button\" width=\"50\"/> button to run the full Jupyter notebook in Python. \n",
    "\n",
    "Note: These are the vanilla settings for running NISP on Au, but feel free to change the settings as you wish.\n",
    "\n",
    "Also note: This program makes files which are created and stored on the Binder server. If you want to rerun this example from scratch, you will need to remove these files. The following block code will do this. This is only needed for this notebook and is not apart of *Interpolation_Script.py* script."
   ]
  },
  {
   "cell_type": "code",
   "execution_count": null,
   "id": "behind-circle",
   "metadata": {},
   "outputs": [],
   "source": [
    "import os\n",
    "from shutil import rmtree\n",
    "to_be_removed_before_restarting_Jupyter_example = []\n",
    "to_be_removed_before_restarting_Jupyter_example += [file for file in os.listdir('.') if file.startswith('Au_Max_Size_')]\n",
    "for example_file_or_folder in to_be_removed_before_restarting_Jupyter_example:\n",
    "    if os.path.exists(example_file_or_folder):\n",
    "        if os.path.isdir(example_file_or_folder):\n",
    "            rmtree(example_file_or_folder)\n",
    "        else:\n",
    "            os.remove(example_file_or_folder)"
   ]
  },
  {
   "cell_type": "markdown",
   "id": "satellite-knitting",
   "metadata": {},
   "source": [
    "The *Run.py* code begins below:"
   ]
  },
  {
   "cell_type": "markdown",
   "id": "flying-hayes",
   "metadata": {},
   "source": [
    "## Importing NISP into script\n",
    "\n",
    "To begin, we need to import NISP into this *Interpolation_Script.py* script. Specifically, we want to import the ``Run_Interpolation_Scheme`` into this *Interpolation_Script.py* script. We will also import a local optimiser that will be used by NISP to interpolar Au. We do this below:"
   ]
  },
  {
   "cell_type": "code",
   "execution_count": null,
   "id": "accomplished-brazil",
   "metadata": {},
   "outputs": [],
   "source": [
    "from NISP import Run_Interpolation_Scheme \n",
    "from RunMinimisation_Au import Minimisation_Function"
   ]
  },
  {
   "cell_type": "markdown",
   "id": "coral-parker",
   "metadata": {},
   "source": [
    "##  Input information for the interpolation scheme\n",
    "\n",
    "We first load the information required by the interpolation scheme. All this information is loaded as entries into the dictionary called input_information.\n",
    "\n",
    "The pieces of information required in input_information are:\n",
    "\n",
    "* Element Type (str.): This is the type of element that the cluster is made up of.\n",
    "* Cohesive Energy (float): This is the cohesive energy of the element you are using. See How to obtain cohesive energies to find about about how to obtain cohesive energies.\n",
    "* Maximum No. of Atoms (int): The number of offspring generated per generation.\n",
    "* Local Optimiser (def): This is a local optimisation method that you will locally optimise clusters with as well as their delta energies. See RunMinimisation.py - Writing a Local Minimisation Function for NISP for information about the local optimiser. If you do not want to give a local optimiser, either set input_information['Local Optimiser'] = None, or do not enter an entry for input_information['Local Optimiser'] into your Interpolation_Script.py script. Do this if you want to input your data into NISP manually.\n",
    "* Manual Mode (bool): This indicates that you do not not want NISP to automatically locally optimise the clusters that are made and get their energies. if Manual Mode is set to True, the program will make all the clusters that you would like to manually locally optimise and get the energies of, as well as an input file for you to input those energies into. If you have already run this program once and got the input file, this tag will tell NISP to look through the input file and get all the data from it to make the interpolation scheme plots and results files.\n",
    "\n",
    "An example of these parameters in Interpolation_Script.py is given below:"
   ]
  },
  {
   "cell_type": "code",
   "execution_count": null,
   "id": "confident-grain",
   "metadata": {},
   "outputs": [],
   "source": [
    "input_information = {}\n",
    "input_information['Element Type'] = 'Au'\n",
    "input_information['Cohesive Energy'] = -3.82819360826 #-3.82819360826\n",
    "input_information['Maximum No. of Atoms'] = 1000\n",
    "input_information['Local Optimiser'] = Minimisation_Function\n",
    "input_information['Manual Mode'] = False"
   ]
  },
  {
   "cell_type": "markdown",
   "id": "shaped-maple",
   "metadata": {},
   "source": [
    "## Output information for the interpolation scheme\n",
    "\n",
    "We then load the information required by the interpolation scheme to plot the results from the interpolation scheme. The sizes of all the clusters that you would like to obtain possible clusters for are also inputted here and given as txt files.\n",
    "\n",
    "All this information is loaded as entries into the dictionary called output_information.\n",
    "\n",
    "The pieces of information required in output_information are:\n",
    "* Upper No of Atom Range (int): This is the upper size range that you would like to plot.\n",
    "* Lower No of Atom Range (int): This is the lower size range that you would like to plot.\n",
    "* Upper Delta Energy Range (float): This is the upper delta energy range that you would like to plot.\n",
    "* Lower Delta Energy Range (float): This is the lower delta energy range that you would like to plot.\n",
    "* Size to Interpolate Over (list of ints): These are all the sizes of clusters that you would like to obtain possible clusters for, including perfect, open-shell, and close-shell clusters.\n",
    "* Filename Prefix (str.): This is the prefix of the name that you want to give to files that are create by the NISP program. This does not need to be given, as there is a default prefix given. The default filename prefix includes the element of the cluster as well as the maximum no. of atoms that the program was run up to.\n",
    "\n",
    "An example of these parameters in Interpolation_Script.py is given below:"
   ]
  },
  {
   "cell_type": "code",
   "execution_count": null,
   "id": "numeric-review",
   "metadata": {},
   "outputs": [],
   "source": [
    "output_information = {}\n",
    "output_information['Upper No of Atom Range']   = None\n",
    "output_information['Lower No of Atom Range']   = None\n",
    "output_information['Upper Delta Energy Range'] = None\n",
    "output_information['Lower Delta Energy Range'] = None\n",
    "output_information['Size to Interpolate Over'] = [38,256,165,76,561]#[37,38,44,55,147,40,888,1399]"
   ]
  },
  {
   "cell_type": "markdown",
   "id": "subsequent-scholarship",
   "metadata": {},
   "source": [
    "## The number of CPUs used by the program and the filename prefix of input and output files\n",
    "\n",
    "NISP can run for a long time, especially if you have set **Maximum No. of Atoms** to over 1000 atoms. Therefore, it is possible to run this program for a while. Therefore, it is possible to parallelise this program so that it run a bit faster. This can be set by setting the ``no_of_cpus`` variable. ``no_of_cpus`` must be set to an int. The default value for the ``no_of_cpus`` variable is ``1``. \n",
    "\n",
    "Furthermore, you can also give a custom name to the input and output files that you make/are made. This is given in ``filename_prefix``. However, you do not need to do this. If you dont want to have a custom filename, do not include ``filename_prefix`` in your script or set ``filename_prefix = ''``. "
   ]
  },
  {
   "cell_type": "code",
   "execution_count": null,
   "id": "purple-recognition",
   "metadata": {},
   "outputs": [],
   "source": [
    "no_of_cpus = 1\n",
    "filename_prefix = ''"
   ]
  },
  {
   "cell_type": "markdown",
   "id": "thorough-banking",
   "metadata": {},
   "source": [
    "[Back To Table of Contents](../Organisms_Jupyter_Example.ipynb)"
   ]
  },
  {
   "cell_type": "markdown",
   "id": "dense-peace",
   "metadata": {},
   "source": [
    "## Run NISP!\n",
    "\n",
    "You have got to the end of all the parameter setting stuff. Now on to running NISP. The next part of the Interpolation_Script.py script tells NISP to run. This is written as follows in the Interpolation_Script.py. This may take a bit of time to run. "
   ]
  },
  {
   "cell_type": "code",
   "execution_count": null,
   "id": "young-metropolitan",
   "metadata": {
    "scrolled": true
   },
   "outputs": [],
   "source": [
    "Run_Interpolation_Scheme(input_information=input_information,output_information=output_information,no_of_cpus=no_of_cpus,filename_prefix=filename_prefix)"
   ]
  },
  {
   "cell_type": "markdown",
   "id": "immune-panel",
   "metadata": {},
   "source": [
    "[Back To Table of Contents](../Organisms_Jupyter_Example.ipynb)"
   ]
  },
  {
   "cell_type": "markdown",
   "id": "horizontal-painting",
   "metadata": {},
   "source": [
    "## Post-processing data"
   ]
  },
  {
   "cell_type": "markdown",
   "id": "complete-notion",
   "metadata": {},
   "source": [
    "Once NISP is finished, it prints out a bunch of files. These include:\n",
    "\n",
    "* png files that shows the interpolation of Au clusters\n",
    "* txt files that tell you how to remove atoms from the perfect close shell icosahedral, decahedral, and octahedral cluster to give the open shell clusters will the desired number of atoms.\n",
    "\n",
    "See the file explorer on the right of this jupyter lab webpage to take a look at them. \n",
    "\n",
    "Below is an example of one of the plots that you obtain from the interpolation scheme, where the green lines indicates the clusters of the sizes (no. of atoms) that you wanted to obtain closed and open shell clusters for. "
   ]
  },
  {
   "cell_type": "code",
   "execution_count": null,
   "id": "diagnostic-worse",
   "metadata": {},
   "outputs": [],
   "source": [
    "from IPython.display import Image\n",
    "Image(filename='Au_Max_Size_1000_Interpolation_Scheme_with_lines.png') "
   ]
  },
  {
   "cell_type": "markdown",
   "id": "mathematical-break",
   "metadata": {},
   "source": [
    "[Back To Table of Contents](../Organisms_Jupyter_Example.ipynb)"
   ]
  }
 ],
 "metadata": {
  "kernelspec": {
   "display_name": "Python 3",
   "language": "python",
   "name": "python3"
  },
  "language_info": {
   "codemirror_mode": {
    "name": "ipython",
    "version": 3
   },
   "file_extension": ".py",
   "mimetype": "text/x-python",
   "name": "python",
   "nbconvert_exporter": "python",
   "pygments_lexer": "ipython3",
   "version": "3.9.1"
  }
 },
 "nbformat": 4,
 "nbformat_minor": 5
}
