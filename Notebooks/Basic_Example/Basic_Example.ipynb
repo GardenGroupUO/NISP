{
 "cells": [
  {
   "cell_type": "markdown",
   "id": "medical-irish",
   "metadata": {},
   "source": [
    "# A Basic Example for performing an interpolation scheme with NISP"
   ]
  },
  {
   "cell_type": "markdown",
   "id": "tough-stadium",
   "metadata": {},
   "source": [
    "[Back To Table of Contents](../Organisms_Jupyter_Example.ipynb)"
   ]
  },
  {
   "cell_type": "markdown",
   "id": "familiar-given",
   "metadata": {},
   "source": [
    "In this example, we will perform an interpolation of Au clusters. We will go through all the components of the *Interpolation_Script.py* files required to run NISP on Au, step by step. See [nisp.readthedocs.io/en/latest/How_To_Run_NISP.html](https://nisp.readthedocs.io/en/latest/How_To_Run_NISP.html) for more information on the *Interpolation_Script.py* file.\n",
    "\n",
    "To run this notebook step by step, press the $\\blacktriangleright$ button sequentially on the python code you want to run. You can find the $\\blacktriangleright$ button in the menu bar above. Make sure you have run $\\blacktriangleright$ on every cell before running the ``GA_Program`` execution cell. Equivalently, press the $\\blacktriangleright\\blacktriangleright$ button to completely run this *Run.py* file from beginning to end. You can also find the $\\blacktriangleright\\blacktriangleright$ button in the menu bar above. Jupyter will display a box that will ask you if you want to restart the kernal. Press the <img src=\"../Images/Restart_button.svg\" alt=\"Restart_Button\" width=\"50\"/> button to run the full Jupyter notebook in Python. \n",
    "\n",
    "Note: These are the vanilla settings for running NISP on Au, but feel free to change the settings as you wish.\n",
    "\n",
    "Also note: This program makes files which are created and stored on the Binder server. If you want to rerun this example from scratch, you will need to remove these files. The following block code will do this. This is only needed for this notebook and is not apart of *Interpolation_Script.py* script."
   ]
  },
  {
   "cell_type": "code",
   "execution_count": 1,
   "id": "romance-fortune",
   "metadata": {},
   "outputs": [],
   "source": [
    "import os\n",
    "from shutil import rmtree\n",
    "to_be_removed_before_restarting_Jupyter_example = []\n",
    "to_be_removed_before_restarting_Jupyter_example += [file for file in os.listdir('.') if file.startswith('Au_Max_Size_')]\n",
    "for example_file_or_folder in to_be_removed_before_restarting_Jupyter_example:\n",
    "    if os.path.exists(example_file_or_folder):\n",
    "        if os.path.isdir(example_file_or_folder):\n",
    "            rmtree(example_file_or_folder)\n",
    "        else:\n",
    "            os.remove(example_file_or_folder)"
   ]
  },
  {
   "cell_type": "markdown",
   "id": "abandoned-science",
   "metadata": {},
   "source": [
    "The *Run.py* code begins below:"
   ]
  },
  {
   "cell_type": "markdown",
   "id": "asian-puppy",
   "metadata": {},
   "source": [
    "## Importing NISP into script\n",
    "\n",
    "To begin, we need to import NISP into this *Interpolation_Script.py* script. Specifically, we want to import the ``Run_Interpolation_Scheme`` into this *Interpolation_Script.py* script. We will also import a local optimiser that will be used by NISP to interpolar Au. We do this below:"
   ]
  },
  {
   "cell_type": "code",
   "execution_count": 2,
   "id": "loving-series",
   "metadata": {},
   "outputs": [
    {
     "name": "stdout",
     "output_type": "stream",
     "text": [
      "Loading matplotlib\n"
     ]
    },
    {
     "name": "stderr",
     "output_type": "stream",
     "text": [
      "In /home/ubuntu/.local/lib/python3.6/site-packages/matplotlib/mpl-data/stylelib/_classic_test.mplstyle: \n",
      "The text.latex.preview rcparam was deprecated in Matplotlib 3.3 and will be removed two minor releases later.\n",
      "In /home/ubuntu/.local/lib/python3.6/site-packages/matplotlib/mpl-data/stylelib/_classic_test.mplstyle: \n",
      "The mathtext.fallback_to_cm rcparam was deprecated in Matplotlib 3.3 and will be removed two minor releases later.\n",
      "In /home/ubuntu/.local/lib/python3.6/site-packages/matplotlib/mpl-data/stylelib/_classic_test.mplstyle: Support for setting the 'mathtext.fallback_to_cm' rcParam is deprecated since 3.3 and will be removed two minor releases later; use 'mathtext.fallback : 'cm' instead.\n",
      "In /home/ubuntu/.local/lib/python3.6/site-packages/matplotlib/mpl-data/stylelib/_classic_test.mplstyle: \n",
      "The validate_bool_maybe_none function was deprecated in Matplotlib 3.3 and will be removed two minor releases later.\n",
      "In /home/ubuntu/.local/lib/python3.6/site-packages/matplotlib/mpl-data/stylelib/_classic_test.mplstyle: \n",
      "The savefig.jpeg_quality rcparam was deprecated in Matplotlib 3.3 and will be removed two minor releases later.\n",
      "In /home/ubuntu/.local/lib/python3.6/site-packages/matplotlib/mpl-data/stylelib/_classic_test.mplstyle: \n",
      "The keymap.all_axes rcparam was deprecated in Matplotlib 3.3 and will be removed two minor releases later.\n",
      "In /home/ubuntu/.local/lib/python3.6/site-packages/matplotlib/mpl-data/stylelib/_classic_test.mplstyle: \n",
      "The animation.avconv_path rcparam was deprecated in Matplotlib 3.3 and will be removed two minor releases later.\n",
      "In /home/ubuntu/.local/lib/python3.6/site-packages/matplotlib/mpl-data/stylelib/_classic_test.mplstyle: \n",
      "The animation.avconv_args rcparam was deprecated in Matplotlib 3.3 and will be removed two minor releases later.\n"
     ]
    },
    {
     "name": "stdout",
     "output_type": "stream",
     "text": [
      "Loading nanocluster modules\n",
      "Loading the interpolation rules\n",
      "Loading Connection modules\n",
      "Loading icosahedral, decahedral, and octahedral methods\n",
      "Loading methods for manual mode\n",
      "Loading os, timing, and multiprocessing modules\n",
      "Beginning Interpolation Program\n"
     ]
    }
   ],
   "source": [
    "from NISP import Run_Interpolation_Scheme \n",
    "from RunMinimisation_Au import Minimisation_Function"
   ]
  },
  {
   "cell_type": "markdown",
   "id": "israeli-mediterranean",
   "metadata": {},
   "source": [
    "##  Input information for the interpolation scheme\n",
    "\n",
    "We first load the information required by the interpolation scheme. All this information is loaded as entries into the dictionary called input_information.\n",
    "\n",
    "The pieces of information required in input_information are:\n",
    "\n",
    "* Element Type (str.): This is the type of element that the cluster is made up of.\n",
    "* Cohesive Energy (float): This is the cohesive energy of the element you are using. See How to obtain cohesive energies to find about about how to obtain cohesive energies.\n",
    "* Maximum No. of Atoms (int): The number of offspring generated per generation.\n",
    "* Local Optimiser (def): This is a local optimisation method that you will locally optimise clusters with as well as their delta energies. See RunMinimisation.py - Writing a Local Minimisation Function for NISP for information about the local optimiser. If you do not want to give a local optimiser, either set input_information['Local Optimiser'] = None, or do not enter an entry for input_information['Local Optimiser'] into your Interpolation_Script.py script. Do this if you want to input your data into NISP manually.\n",
    "* Manual Mode (bool): This indicates that you do not not want NISP to automatically locally optimise the clusters that are made and get their energies. if Manual Mode is set to True, the program will make all the clusters that you would like to manually locally optimise and get the energies of, as well as an input file for you to input those energies into. If you have already run this program once and got the input file, this tag will tell NISP to look through the input file and get all the data from it to make the interpolation scheme plots and results files.\n",
    "\n",
    "An example of these parameters in Interpolation_Script.py is given below:"
   ]
  },
  {
   "cell_type": "code",
   "execution_count": 3,
   "id": "applicable-geneva",
   "metadata": {},
   "outputs": [],
   "source": [
    "input_information = {}\n",
    "input_information['Element Type'] = 'Au'\n",
    "input_information['Cohesive Energy'] = -3.82819360826 #-3.82819360826\n",
    "input_information['Maximum No. of Atoms'] = 2000\n",
    "input_information['Local Optimiser'] = Minimisation_Function\n",
    "input_information['Manual Mode'] = False"
   ]
  },
  {
   "cell_type": "markdown",
   "id": "explicit-conservation",
   "metadata": {},
   "source": [
    "## Output information for the interpolation scheme\n",
    "\n",
    "We then load the information required by the interpolation scheme to plot the results from the interpolation scheme. The sizes of all the clusters that you would like to obtain possible clusters for are also inputted here and given as txt files.\n",
    "\n",
    "All this information is loaded as entries into the dictionary called output_information.\n",
    "\n",
    "The pieces of information required in output_information are:\n",
    "* Upper No of Atom Range (int): This is the upper size range that you would like to plot.\n",
    "* Lower No of Atom Range (int): This is the lower size range that you would like to plot.\n",
    "* Upper Delta Energy Range (float): This is the upper delta energy range that you would like to plot.\n",
    "* Lower Delta Energy Range (float): This is the lower delta energy range that you would like to plot.\n",
    "* Size to Interpolate Over (list of ints): These are all the sizes of clusters that you would like to obtain possible clusters for, including perfect, open-shell, and close-shell clusters.\n",
    "* Filename Prefix (str.): This is the prefix of the name that you want to give to files that are create by the NISP program. This does not need to be given, as there is a default prefix given. The default filename prefix includes the element of the cluster as well as the maximum no. of atoms that the program was run up to.\n",
    "\n",
    "An example of these parameters in Interpolation_Script.py is given below:"
   ]
  },
  {
   "cell_type": "code",
   "execution_count": 4,
   "id": "confident-dynamics",
   "metadata": {},
   "outputs": [],
   "source": [
    "output_information = {}\n",
    "output_information['Upper No of Atom Range']   = None\n",
    "output_information['Lower No of Atom Range']   = None\n",
    "output_information['Upper Delta Energy Range'] = None\n",
    "output_information['Lower Delta Energy Range'] = None\n",
    "output_information['Size to Interpolate Over'] = [561,742,923]#[37,38,44,55,147,40,888,1399]"
   ]
  },
  {
   "cell_type": "markdown",
   "id": "supreme-fault",
   "metadata": {},
   "source": [
    "## The number of CPUs used by the program and the filename prefix of input and output files\n",
    "\n",
    "NISP can run for a long time, especially if you have set **Maximum No. of Atoms** to over 1000 atoms. Therefore, it is possible to run this program for a while. Therefore, it is possible to parallelise this program so that it run a bit faster. This can be set by setting the ``no_of_cpus`` variable. ``no_of_cpus`` must be set to an int. The default value for the ``no_of_cpus`` variable is ``1``. \n",
    "\n",
    "Furthermore, you can also give a custom name to the input and output files that you make/are made. This is given in ``filename_prefix``. However, you do not need to do this. If you dont want to have a custom filename, do not include ``filename_prefix`` in your script or set ``filename_prefix = ''``. "
   ]
  },
  {
   "cell_type": "code",
   "execution_count": 5,
   "id": "secure-thing",
   "metadata": {},
   "outputs": [],
   "source": [
    "no_of_cpus = 1\n",
    "filename_prefix = ''"
   ]
  },
  {
   "cell_type": "markdown",
   "id": "third-robert",
   "metadata": {},
   "source": [
    "[Back To Table of Contents](../Organisms_Jupyter_Example.ipynb)"
   ]
  },
  {
   "cell_type": "markdown",
   "id": "incident-canon",
   "metadata": {},
   "source": [
    "## Run NISP!\n",
    "\n",
    "You have got to the end of all the parameter setting stuff. Now on to running NISP. The next part of the Interpolation_Script.py script tells NISP to run. This is written as follows in the Interpolation_Script.py:"
   ]
  },
  {
   "cell_type": "code",
   "execution_count": 6,
   "id": "peaceful-cream",
   "metadata": {
    "scrolled": true
   },
   "outputs": [
    {
     "name": "stdout",
     "output_type": "stream",
     "text": [
      "============================================================\n",
      "Starting Obtaining Icosahedral Delta Energies\n",
      "no atoms\tno of shells\n",
      "13 \tnoshells: 2\n",
      "55 \tnoshells: 3\n",
      "147 \tnoshells: 4\n",
      "309 \tnoshells: 5\n",
      "561 \tnoshells: 6\n",
      "923 \tnoshells: 7\n",
      "1415 \tnoshells: 8\n",
      "============================================================\n",
      "Performing Tasks\n"
     ]
    },
    {
     "ename": "ModuleNotFoundError",
     "evalue": "No module named 'NISP.Counter'",
     "output_type": "error",
     "traceback": [
      "\u001b[0;31m---------------------------------------------------------------------------\u001b[0m",
      "\u001b[0;31mModuleNotFoundError\u001b[0m                       Traceback (most recent call last)",
      "\u001b[0;32m<ipython-input-6-5e641451e29d>\u001b[0m in \u001b[0;36m<module>\u001b[0;34m\u001b[0m\n\u001b[0;32m----> 1\u001b[0;31m \u001b[0mRun_Interpolation_Scheme\u001b[0m\u001b[0;34m(\u001b[0m\u001b[0minput_information\u001b[0m\u001b[0;34m=\u001b[0m\u001b[0minput_information\u001b[0m\u001b[0;34m,\u001b[0m\u001b[0moutput_information\u001b[0m\u001b[0;34m=\u001b[0m\u001b[0moutput_information\u001b[0m\u001b[0;34m,\u001b[0m\u001b[0mno_of_cpus\u001b[0m\u001b[0;34m=\u001b[0m\u001b[0mno_of_cpus\u001b[0m\u001b[0;34m,\u001b[0m\u001b[0mfilename_prefix\u001b[0m\u001b[0;34m=\u001b[0m\u001b[0mfilename_prefix\u001b[0m\u001b[0;34m)\u001b[0m\u001b[0;34m\u001b[0m\u001b[0;34m\u001b[0m\u001b[0m\n\u001b[0m",
      "\u001b[0;32m~/Desktop/GoogleDrive/PhDWork/Programs/Annas_Interpolation_Scheme/NISP_v1.2.0/NISP/NISP/Run_Interpolation_Scheme.py\u001b[0m in \u001b[0;36m__init__\u001b[0;34m(self, input_information, output_information, no_of_cpus, filename_prefix)\u001b[0m\n\u001b[1;32m     45\u001b[0m         \u001b[0;32mdef\u001b[0m \u001b[0m__init__\u001b[0m\u001b[0;34m(\u001b[0m\u001b[0mself\u001b[0m\u001b[0;34m,\u001b[0m\u001b[0minput_information\u001b[0m\u001b[0;34m,\u001b[0m\u001b[0moutput_information\u001b[0m\u001b[0;34m=\u001b[0m\u001b[0;34m{\u001b[0m\u001b[0;34m}\u001b[0m\u001b[0;34m,\u001b[0m\u001b[0mno_of_cpus\u001b[0m\u001b[0;34m=\u001b[0m\u001b[0;36m1\u001b[0m\u001b[0;34m,\u001b[0m\u001b[0mfilename_prefix\u001b[0m\u001b[0;34m=\u001b[0m\u001b[0;34m''\u001b[0m\u001b[0;34m)\u001b[0m\u001b[0;34m:\u001b[0m\u001b[0;34m\u001b[0m\u001b[0;34m\u001b[0m\u001b[0m\n\u001b[1;32m     46\u001b[0m                 \u001b[0mself\u001b[0m\u001b[0;34m.\u001b[0m\u001b[0msetup_for_input_data\u001b[0m\u001b[0;34m(\u001b[0m\u001b[0minput_information\u001b[0m\u001b[0;34m,\u001b[0m\u001b[0mno_of_cpus\u001b[0m\u001b[0;34m,\u001b[0m\u001b[0mfilename_prefix\u001b[0m\u001b[0;34m)\u001b[0m\u001b[0;34m\u001b[0m\u001b[0;34m\u001b[0m\u001b[0m\n\u001b[0;32m---> 47\u001b[0;31m                 \u001b[0mself\u001b[0m\u001b[0;34m.\u001b[0m\u001b[0mget_input_data\u001b[0m\u001b[0;34m(\u001b[0m\u001b[0;34m)\u001b[0m\u001b[0;34m\u001b[0m\u001b[0;34m\u001b[0m\u001b[0m\n\u001b[0m\u001b[1;32m     48\u001b[0m                 \u001b[0mself\u001b[0m\u001b[0;34m.\u001b[0m\u001b[0msetup_for_running_interpolation\u001b[0m\u001b[0;34m(\u001b[0m\u001b[0moutput_information\u001b[0m\u001b[0;34m,\u001b[0m\u001b[0mfilename_prefix\u001b[0m\u001b[0;34m)\u001b[0m\u001b[0;34m\u001b[0m\u001b[0;34m\u001b[0m\u001b[0m\n\u001b[1;32m     49\u001b[0m                 \u001b[0mself\u001b[0m\u001b[0;34m.\u001b[0m\u001b[0mrun_interpolation\u001b[0m\u001b[0;34m(\u001b[0m\u001b[0;34m)\u001b[0m\u001b[0;34m\u001b[0m\u001b[0;34m\u001b[0m\u001b[0m\n",
      "\u001b[0;32m~/Desktop/GoogleDrive/PhDWork/Programs/Annas_Interpolation_Scheme/NISP_v1.2.0/NISP/NISP/Run_Interpolation_Scheme.py\u001b[0m in \u001b[0;36mget_input_data\u001b[0;34m(self)\u001b[0m\n\u001b[1;32m    107\u001b[0m                         \u001b[0mself\u001b[0m\u001b[0;34m.\u001b[0m\u001b[0mwrite_manual_files\u001b[0m\u001b[0;34m(\u001b[0m\u001b[0;34m)\u001b[0m\u001b[0;34m\u001b[0m\u001b[0;34m\u001b[0m\u001b[0m\n\u001b[1;32m    108\u001b[0m                 \u001b[0;32melse\u001b[0m\u001b[0;34m:\u001b[0m\u001b[0;34m\u001b[0m\u001b[0;34m\u001b[0m\u001b[0m\n\u001b[0;32m--> 109\u001b[0;31m                         \u001b[0mself\u001b[0m\u001b[0;34m.\u001b[0m\u001b[0minput_with_calculator\u001b[0m\u001b[0;34m(\u001b[0m\u001b[0;34m)\u001b[0m\u001b[0;34m\u001b[0m\u001b[0;34m\u001b[0m\u001b[0m\n\u001b[0m\u001b[1;32m    110\u001b[0m \u001b[0;34m\u001b[0m\u001b[0m\n\u001b[1;32m    111\u001b[0m         \u001b[0;32mdef\u001b[0m \u001b[0minput_with_calculator\u001b[0m\u001b[0;34m(\u001b[0m\u001b[0mself\u001b[0m\u001b[0;34m)\u001b[0m\u001b[0;34m:\u001b[0m\u001b[0;34m\u001b[0m\u001b[0;34m\u001b[0m\u001b[0m\n",
      "\u001b[0;32m~/Desktop/GoogleDrive/PhDWork/Programs/Annas_Interpolation_Scheme/NISP_v1.2.0/NISP/NISP/Run_Interpolation_Scheme.py\u001b[0m in \u001b[0;36minput_with_calculator\u001b[0;34m(self)\u001b[0m\n\u001b[1;32m    110\u001b[0m \u001b[0;34m\u001b[0m\u001b[0m\n\u001b[1;32m    111\u001b[0m         \u001b[0;32mdef\u001b[0m \u001b[0minput_with_calculator\u001b[0m\u001b[0;34m(\u001b[0m\u001b[0mself\u001b[0m\u001b[0;34m)\u001b[0m\u001b[0;34m:\u001b[0m\u001b[0;34m\u001b[0m\u001b[0;34m\u001b[0m\u001b[0m\n\u001b[0;32m--> 112\u001b[0;31m                 \u001b[0mself\u001b[0m\u001b[0;34m.\u001b[0m\u001b[0mico_data\u001b[0m\u001b[0;34m,\u001b[0m  \u001b[0mself\u001b[0m\u001b[0;34m.\u001b[0m\u001b[0mmagic_numbers\u001b[0m \u001b[0;34m=\u001b[0m \u001b[0mself\u001b[0m\u001b[0;34m.\u001b[0m\u001b[0mGet_Energies_Of_Icosahedrons\u001b[0m\u001b[0;34m(\u001b[0m\u001b[0;34m)\u001b[0m\u001b[0;34m\u001b[0m\u001b[0;34m\u001b[0m\u001b[0m\n\u001b[0m\u001b[1;32m    113\u001b[0m                 \u001b[0mself\u001b[0m\u001b[0;34m.\u001b[0m\u001b[0mocta_data\u001b[0m\u001b[0;34m,\u001b[0m \u001b[0mself\u001b[0m\u001b[0;34m.\u001b[0m\u001b[0mocta_magic\u001b[0m    \u001b[0;34m=\u001b[0m \u001b[0mself\u001b[0m\u001b[0;34m.\u001b[0m\u001b[0mGet_Energies_Of_Octahedrals\u001b[0m\u001b[0;34m(\u001b[0m\u001b[0;34m)\u001b[0m\u001b[0;34m\u001b[0m\u001b[0;34m\u001b[0m\u001b[0m\n\u001b[1;32m    114\u001b[0m                 \u001b[0mself\u001b[0m\u001b[0;34m.\u001b[0m\u001b[0mdeca_data\u001b[0m\u001b[0;34m,\u001b[0m \u001b[0mself\u001b[0m\u001b[0;34m.\u001b[0m\u001b[0mdeca_magic\u001b[0m    \u001b[0;34m=\u001b[0m \u001b[0mself\u001b[0m\u001b[0;34m.\u001b[0m\u001b[0mGet_Energies_Of_Decahedrals\u001b[0m\u001b[0;34m(\u001b[0m\u001b[0;34m)\u001b[0m\u001b[0;34m\u001b[0m\u001b[0;34m\u001b[0m\u001b[0m\n",
      "\u001b[0;32m~/Desktop/GoogleDrive/PhDWork/Programs/Annas_Interpolation_Scheme/NISP_v1.2.0/NISP/NISP/Run_Interpolation_Scheme.py\u001b[0m in \u001b[0;36mGet_Energies_Of_Icosahedrons\u001b[0;34m(self)\u001b[0m\n\u001b[1;32m    137\u001b[0m                 \u001b[0mprint\u001b[0m\u001b[0;34m(\u001b[0m\u001b[0;34m'Performing Tasks'\u001b[0m\u001b[0;34m)\u001b[0m\u001b[0;34m\u001b[0m\u001b[0;34m\u001b[0m\u001b[0m\n\u001b[1;32m    138\u001b[0m                 \u001b[0mstart_time\u001b[0m \u001b[0;34m=\u001b[0m \u001b[0mtime\u001b[0m\u001b[0;34m.\u001b[0m\u001b[0mtime\u001b[0m\u001b[0;34m(\u001b[0m\u001b[0;34m)\u001b[0m\u001b[0;34m\u001b[0m\u001b[0;34m\u001b[0m\u001b[0m\n\u001b[0;32m--> 139\u001b[0;31m                 \u001b[0mico_data\u001b[0m \u001b[0;34m=\u001b[0m \u001b[0mself\u001b[0m\u001b[0;34m.\u001b[0m\u001b[0mobtain_cluster_data\u001b[0m\u001b[0;34m(\u001b[0m\u001b[0mtasks\u001b[0m\u001b[0;34m)\u001b[0m\u001b[0;34m\u001b[0m\u001b[0;34m\u001b[0m\u001b[0m\n\u001b[0m\u001b[1;32m    140\u001b[0m                 \u001b[0mend_time\u001b[0m \u001b[0;34m=\u001b[0m \u001b[0mtime\u001b[0m\u001b[0;34m.\u001b[0m\u001b[0mtime\u001b[0m\u001b[0;34m(\u001b[0m\u001b[0;34m)\u001b[0m\u001b[0;34m\u001b[0m\u001b[0;34m\u001b[0m\u001b[0m\n\u001b[1;32m    141\u001b[0m                 \u001b[0mprint\u001b[0m\u001b[0;34m(\u001b[0m\u001b[0;34m'Time taken to get Icosahedral data was '\u001b[0m\u001b[0;34m+\u001b[0m\u001b[0mstr\u001b[0m\u001b[0;34m(\u001b[0m\u001b[0mend_time\u001b[0m \u001b[0;34m-\u001b[0m \u001b[0mstart_time\u001b[0m\u001b[0;34m)\u001b[0m\u001b[0;34m+\u001b[0m\u001b[0;34m' s.'\u001b[0m\u001b[0;34m)\u001b[0m\u001b[0;34m\u001b[0m\u001b[0;34m\u001b[0m\u001b[0m\n",
      "\u001b[0;32m~/Desktop/GoogleDrive/PhDWork/Programs/Annas_Interpolation_Scheme/NISP_v1.2.0/NISP/NISP/Run_Interpolation_Scheme.py\u001b[0m in \u001b[0;36mobtain_cluster_data\u001b[0;34m(self, tasks)\u001b[0m\n\u001b[1;32m    246\u001b[0m                         \u001b[0mdata\u001b[0m \u001b[0;34m=\u001b[0m \u001b[0mresults\u001b[0m\u001b[0;34m.\u001b[0m\u001b[0mget\u001b[0m\u001b[0;34m(\u001b[0m\u001b[0;34m)\u001b[0m\u001b[0;34m\u001b[0m\u001b[0;34m\u001b[0m\u001b[0m\n\u001b[1;32m    247\u001b[0m                 \u001b[0;32melse\u001b[0m\u001b[0;34m:\u001b[0m\u001b[0;34m\u001b[0m\u001b[0;34m\u001b[0m\u001b[0m\n\u001b[0;32m--> 248\u001b[0;31m                         \u001b[0;32mfrom\u001b[0m \u001b[0mNISP\u001b[0m\u001b[0;34m.\u001b[0m\u001b[0mCounter\u001b[0m \u001b[0;32mimport\u001b[0m \u001b[0mCounter\u001b[0m\u001b[0;34m\u001b[0m\u001b[0;34m\u001b[0m\u001b[0m\n\u001b[0m\u001b[1;32m    249\u001b[0m                         \u001b[0mcounter\u001b[0m \u001b[0;34m=\u001b[0m \u001b[0mCounter\u001b[0m\u001b[0;34m(\u001b[0m\u001b[0;34m)\u001b[0m\u001b[0;34m\u001b[0m\u001b[0;34m\u001b[0m\u001b[0m\n\u001b[1;32m    250\u001b[0m                         \u001b[0mdata\u001b[0m \u001b[0;34m=\u001b[0m \u001b[0;34m[\u001b[0m\u001b[0mget_cluster\u001b[0m\u001b[0;34m(\u001b[0m\u001b[0mtask\u001b[0m\u001b[0;34m+\u001b[0m\u001b[0;34m(\u001b[0m\u001b[0mcounter\u001b[0m\u001b[0;34m,\u001b[0m\u001b[0;34m)\u001b[0m\u001b[0;34m)\u001b[0m \u001b[0;32mfor\u001b[0m \u001b[0mtask\u001b[0m \u001b[0;32min\u001b[0m \u001b[0mtasks\u001b[0m\u001b[0;34m]\u001b[0m\u001b[0;34m\u001b[0m\u001b[0;34m\u001b[0m\u001b[0m\n",
      "\u001b[0;31mModuleNotFoundError\u001b[0m: No module named 'NISP.Counter'"
     ]
    }
   ],
   "source": [
    "Run_Interpolation_Scheme(input_information=input_information,output_information=output_information,no_of_cpus=no_of_cpus,filename_prefix=filename_prefix)"
   ]
  },
  {
   "cell_type": "markdown",
   "id": "apart-ranch",
   "metadata": {},
   "source": [
    "[Back To Table of Contents](../Organisms_Jupyter_Example.ipynb)"
   ]
  },
  {
   "cell_type": "markdown",
   "id": "characteristic-participation",
   "metadata": {},
   "source": [
    "## Post-processing data from your global optimisation"
   ]
  },
  {
   "cell_type": "markdown",
   "id": "intimate-consortium",
   "metadata": {},
   "source": [
    "Once NISP is finished, it prints out a bunch of files. These include:\n",
    "* png files that shows the interpolation of Au clusters\n",
    "* txt files that tell you how to remove atoms from the perfect close shell icosahedral, decahedral, and octahedral cluster to give the open shell clusters will the desired number of atoms.\n",
    "See the file explorer on the right of this jupyter lab webpage to take a look at them. \n",
    "Below is an example of the interpolation scheme including lines to show how to make the open shell cl"
   ]
  },
  {
   "cell_type": "code",
   "execution_count": null,
   "id": "fresh-vehicle",
   "metadata": {},
   "outputs": [],
   "source": [
    "from IPython.display import Image\n",
    "Image(filename='Au_Max_Size_2000_Interpolation_Scheme_with_lines.png') "
   ]
  },
  {
   "cell_type": "markdown",
   "id": "thorough-majority",
   "metadata": {},
   "source": [
    "[Back To Table of Contents](../Organisms_Jupyter_Example.ipynb)"
   ]
  }
 ],
 "metadata": {
  "kernelspec": {
   "display_name": "Python 3",
   "language": "python",
   "name": "python3"
  },
  "language_info": {
   "codemirror_mode": {
    "name": "ipython",
    "version": 3
   },
   "file_extension": ".py",
   "mimetype": "text/x-python",
   "name": "python",
   "nbconvert_exporter": "python",
   "pygments_lexer": "ipython3",
   "version": "3.6.9"
  }
 },
 "nbformat": 4,
 "nbformat_minor": 5
}
