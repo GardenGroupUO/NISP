{
 "cells": [
  {
   "cell_type": "markdown",
   "id": "compatible-ecuador",
   "metadata": {},
   "source": [
    "# Using Manual Mode with NISP"
   ]
  },
  {
   "cell_type": "markdown",
   "id": "elder-twist",
   "metadata": {},
   "source": [
    "[Back To Table of Contents](../Organisms_Jupyter_Example.ipynb)"
   ]
  },
  {
   "cell_type": "markdown",
   "id": "substantial-technique",
   "metadata": {},
   "source": [
    "In this example, we will run an example of NISP for the interpolation of Pt with manual mode set to ``'VASP'``. This will create a file called ````. \n",
    "\n",
    "To run this notebook step by step, press the $\\blacktriangleright$ button sequentially on the python code you want to run. You can find the $\\blacktriangleright$ button in the menu bar above. Make sure you have run $\\blacktriangleright$ on every cell before running the ``GA_Program`` execution cell. Equivalently, press the $\\blacktriangleright\\blacktriangleright$ button to completely run this *Run.py* file from beginning to end. You can also find the $\\blacktriangleright\\blacktriangleright$ button in the menu bar above. Jupyter will display a box that will ask you if you want to restart the kernal. Press the <img src=\"../Images/Restart_button.svg\" alt=\"Restart_Button\" width=\"50\"/> button to run the full Jupyter notebook in Python. \n",
    "\n",
    "Note: These are the vanilla settings for running NISP on Au, but feel free to change the settings as you wish.\n",
    "\n",
    "Also note: This program makes files which are created and stored on the Binder server. If you want to rerun this example from scratch, you will need to remove these files. The following block code will do this. This is only needed for this notebook and is not apart of *Interpolation_Script.py* script."
   ]
  },
  {
   "cell_type": "code",
   "execution_count": 5,
   "id": "inner-cooperative",
   "metadata": {},
   "outputs": [],
   "source": [
    "import os\n",
    "from shutil import rmtree\n",
    "to_be_removed_before_restarting_Jupyter_example = []\n",
    "to_be_removed_before_restarting_Jupyter_example += ['clusters']\n",
    "to_be_removed_before_restarting_Jupyter_example += [file for file in os.listdir('.') if file.startswith('Pt_Max_Size_')]\n",
    "for example_file_or_folder in to_be_removed_before_restarting_Jupyter_example:\n",
    "    if os.path.exists(example_file_or_folder):\n",
    "        if os.path.isdir(example_file_or_folder):\n",
    "            rmtree(example_file_or_folder)\n",
    "        else:\n",
    "            os.remove(example_file_or_folder)"
   ]
  },
  {
   "cell_type": "markdown",
   "id": "proper-characteristic",
   "metadata": {},
   "source": [
    "The *Run.py* code begins below:"
   ]
  },
  {
   "cell_type": "markdown",
   "id": "patient-comparative",
   "metadata": {},
   "source": [
    "## Importing NISP into script\n",
    "\n",
    "To begin, we need to import NISP into this *Interpolation_Script.py* script. Specifically, we want to import the ``Run_Interpolation_Scheme`` into this *Interpolation_Script.py* script. We will also import a local optimiser that will be used by NISP to interpolar Au. We do this below:"
   ]
  },
  {
   "cell_type": "code",
   "execution_count": 2,
   "id": "demographic-destiny",
   "metadata": {},
   "outputs": [
    {
     "name": "stdout",
     "output_type": "stream",
     "text": [
      "Loading matplotlib\n"
     ]
    },
    {
     "name": "stderr",
     "output_type": "stream",
     "text": [
      "In /home/ubuntu/.local/lib/python3.6/site-packages/matplotlib/mpl-data/stylelib/_classic_test.mplstyle: \n",
      "The text.latex.preview rcparam was deprecated in Matplotlib 3.3 and will be removed two minor releases later.\n",
      "In /home/ubuntu/.local/lib/python3.6/site-packages/matplotlib/mpl-data/stylelib/_classic_test.mplstyle: \n",
      "The mathtext.fallback_to_cm rcparam was deprecated in Matplotlib 3.3 and will be removed two minor releases later.\n",
      "In /home/ubuntu/.local/lib/python3.6/site-packages/matplotlib/mpl-data/stylelib/_classic_test.mplstyle: Support for setting the 'mathtext.fallback_to_cm' rcParam is deprecated since 3.3 and will be removed two minor releases later; use 'mathtext.fallback : 'cm' instead.\n",
      "In /home/ubuntu/.local/lib/python3.6/site-packages/matplotlib/mpl-data/stylelib/_classic_test.mplstyle: \n",
      "The validate_bool_maybe_none function was deprecated in Matplotlib 3.3 and will be removed two minor releases later.\n",
      "In /home/ubuntu/.local/lib/python3.6/site-packages/matplotlib/mpl-data/stylelib/_classic_test.mplstyle: \n",
      "The savefig.jpeg_quality rcparam was deprecated in Matplotlib 3.3 and will be removed two minor releases later.\n",
      "In /home/ubuntu/.local/lib/python3.6/site-packages/matplotlib/mpl-data/stylelib/_classic_test.mplstyle: \n",
      "The keymap.all_axes rcparam was deprecated in Matplotlib 3.3 and will be removed two minor releases later.\n",
      "In /home/ubuntu/.local/lib/python3.6/site-packages/matplotlib/mpl-data/stylelib/_classic_test.mplstyle: \n",
      "The animation.avconv_path rcparam was deprecated in Matplotlib 3.3 and will be removed two minor releases later.\n",
      "In /home/ubuntu/.local/lib/python3.6/site-packages/matplotlib/mpl-data/stylelib/_classic_test.mplstyle: \n",
      "The animation.avconv_args rcparam was deprecated in Matplotlib 3.3 and will be removed two minor releases later.\n"
     ]
    },
    {
     "name": "stdout",
     "output_type": "stream",
     "text": [
      "Loading nanocluster modules\n",
      "Loading the interpolation rules\n",
      "Loading Connection modules\n",
      "Loading icosahedral, decahedral, and octahedral methods\n",
      "Loading methods for manual mode\n",
      "Loading os, timing, and multiprocessing modules\n",
      "Beginning Interpolation Program\n"
     ]
    }
   ],
   "source": [
    "from NISP import Run_Interpolation_Scheme \n",
    "from RunMinimisation_Pt import Minimisation_Function\n",
    "\n",
    "input_information = {}\n",
    "input_information['Element Type'] = 'Pt'\n",
    "input_information['Cohesive Energy'] = -5.89233884824\n",
    "input_information['Maximum No. of Atoms'] = 1000\n",
    "input_information['Local Optimiser'] = Minimisation_Function\n",
    "input_information['Manual Mode'] = 'VASP'\n",
    "\n",
    "output_information = {}\n",
    "output_information['Upper No of Atom Range']   = 450\n",
    "output_information['Lower No of Atom Range']   = 350\n",
    "output_information['Upper Delta Energy Range'] = None #2.8\n",
    "output_information['Lower Delta Energy Range'] = None #2.2\n",
    "output_information['Size to Interpolate Over'] = [37,400]#[37,38,44,55,147,40,888,1399]\n",
    "\n",
    "no_of_cpus = 1\n",
    "filename_prefix = ''"
   ]
  },
  {
   "cell_type": "markdown",
   "id": "selected-bargain",
   "metadata": {},
   "source": [
    "[Back To Table of Contents](../Organisms_Jupyter_Example.ipynb)"
   ]
  },
  {
   "cell_type": "markdown",
   "id": "abandoned-cisco",
   "metadata": {},
   "source": [
    "## Run NISP!\n",
    "\n",
    "You have got to the end of all the parameter setting stuff. Now on to running NISP. The next part of the Interpolation_Script.py script tells NISP to run. This is written as follows in the Interpolation_Script.py. This may take a bit of time to run. "
   ]
  },
  {
   "cell_type": "code",
   "execution_count": 3,
   "id": "identical-system",
   "metadata": {
    "scrolled": true
   },
   "outputs": [
    {
     "name": "stdout",
     "output_type": "stream",
     "text": [
      "--------------------------------------------------\n",
      "Found the file called Pt_Max_Size_1000_atoms_interpolation_scheme_input_file.txt\n",
      "This file was made from the first time you ran the interpolation scheme\n",
      "\n",
      "This file contained all the information required to perform the interpolation scheme\n",
      "It contains:\n",
      "\t* The various perfect closed shell icosahedral, decahedral, and octahedral clusters.\n",
      "\t* The parameters used to make those clusters\n",
      "\t* The delta energy of the cluster with your chosen potential\n",
      "--------------------------------------------------\n"
     ]
    },
    {
     "ename": "ValueError",
     "evalue": "invalid literal for int() with base 10: '------------------------------\\n'",
     "output_type": "error",
     "traceback": [
      "\u001b[0;31m---------------------------------------------------------------------------\u001b[0m",
      "\u001b[0;31mValueError\u001b[0m                                Traceback (most recent call last)",
      "\u001b[0;32m<ipython-input-3-5e641451e29d>\u001b[0m in \u001b[0;36m<module>\u001b[0;34m\u001b[0m\n\u001b[0;32m----> 1\u001b[0;31m \u001b[0mRun_Interpolation_Scheme\u001b[0m\u001b[0;34m(\u001b[0m\u001b[0minput_information\u001b[0m\u001b[0;34m=\u001b[0m\u001b[0minput_information\u001b[0m\u001b[0;34m,\u001b[0m\u001b[0moutput_information\u001b[0m\u001b[0;34m=\u001b[0m\u001b[0moutput_information\u001b[0m\u001b[0;34m,\u001b[0m\u001b[0mno_of_cpus\u001b[0m\u001b[0;34m=\u001b[0m\u001b[0mno_of_cpus\u001b[0m\u001b[0;34m,\u001b[0m\u001b[0mfilename_prefix\u001b[0m\u001b[0;34m=\u001b[0m\u001b[0mfilename_prefix\u001b[0m\u001b[0;34m)\u001b[0m\u001b[0;34m\u001b[0m\u001b[0;34m\u001b[0m\u001b[0m\n\u001b[0m",
      "\u001b[0;32m~/Desktop/GoogleDrive/PhDWork/Programs/Annas_Interpolation_Scheme/NISP_v1.2.0/NISP/NISP/Run_Interpolation_Scheme.py\u001b[0m in \u001b[0;36m__init__\u001b[0;34m(self, input_information, output_information, no_of_cpus, filename_prefix)\u001b[0m\n\u001b[1;32m     45\u001b[0m         \u001b[0;32mdef\u001b[0m \u001b[0m__init__\u001b[0m\u001b[0;34m(\u001b[0m\u001b[0mself\u001b[0m\u001b[0;34m,\u001b[0m\u001b[0minput_information\u001b[0m\u001b[0;34m,\u001b[0m\u001b[0moutput_information\u001b[0m\u001b[0;34m=\u001b[0m\u001b[0;34m{\u001b[0m\u001b[0;34m}\u001b[0m\u001b[0;34m,\u001b[0m\u001b[0mno_of_cpus\u001b[0m\u001b[0;34m=\u001b[0m\u001b[0;36m1\u001b[0m\u001b[0;34m,\u001b[0m\u001b[0mfilename_prefix\u001b[0m\u001b[0;34m=\u001b[0m\u001b[0;34m''\u001b[0m\u001b[0;34m)\u001b[0m\u001b[0;34m:\u001b[0m\u001b[0;34m\u001b[0m\u001b[0;34m\u001b[0m\u001b[0m\n\u001b[1;32m     46\u001b[0m                 \u001b[0mself\u001b[0m\u001b[0;34m.\u001b[0m\u001b[0msetup_for_input_data\u001b[0m\u001b[0;34m(\u001b[0m\u001b[0minput_information\u001b[0m\u001b[0;34m,\u001b[0m\u001b[0mno_of_cpus\u001b[0m\u001b[0;34m,\u001b[0m\u001b[0mfilename_prefix\u001b[0m\u001b[0;34m)\u001b[0m\u001b[0;34m\u001b[0m\u001b[0;34m\u001b[0m\u001b[0m\n\u001b[0;32m---> 47\u001b[0;31m                 \u001b[0mself\u001b[0m\u001b[0;34m.\u001b[0m\u001b[0mget_input_data\u001b[0m\u001b[0;34m(\u001b[0m\u001b[0;34m)\u001b[0m\u001b[0;34m\u001b[0m\u001b[0;34m\u001b[0m\u001b[0m\n\u001b[0m\u001b[1;32m     48\u001b[0m                 \u001b[0mself\u001b[0m\u001b[0;34m.\u001b[0m\u001b[0msetup_for_running_interpolation\u001b[0m\u001b[0;34m(\u001b[0m\u001b[0moutput_information\u001b[0m\u001b[0;34m,\u001b[0m\u001b[0mfilename_prefix\u001b[0m\u001b[0;34m)\u001b[0m\u001b[0;34m\u001b[0m\u001b[0;34m\u001b[0m\u001b[0m\n\u001b[1;32m     49\u001b[0m                 \u001b[0mself\u001b[0m\u001b[0;34m.\u001b[0m\u001b[0mrun_interpolation\u001b[0m\u001b[0;34m(\u001b[0m\u001b[0;34m)\u001b[0m\u001b[0;34m\u001b[0m\u001b[0;34m\u001b[0m\u001b[0m\n",
      "\u001b[0;32m~/Desktop/GoogleDrive/PhDWork/Programs/Annas_Interpolation_Scheme/NISP_v1.2.0/NISP/NISP/Run_Interpolation_Scheme.py\u001b[0m in \u001b[0;36mget_input_data\u001b[0;34m(self)\u001b[0m\n\u001b[1;32m    101\u001b[0m         \u001b[0;32mdef\u001b[0m \u001b[0mget_input_data\u001b[0m\u001b[0;34m(\u001b[0m\u001b[0mself\u001b[0m\u001b[0;34m)\u001b[0m\u001b[0;34m:\u001b[0m\u001b[0;34m\u001b[0m\u001b[0;34m\u001b[0m\u001b[0m\n\u001b[1;32m    102\u001b[0m                 \u001b[0;32mif\u001b[0m \u001b[0mos\u001b[0m\u001b[0;34m.\u001b[0m\u001b[0mpath\u001b[0m\u001b[0;34m.\u001b[0m\u001b[0mexists\u001b[0m\u001b[0;34m(\u001b[0m\u001b[0mself\u001b[0m\u001b[0;34m.\u001b[0m\u001b[0mdelta_energy_results_file\u001b[0m\u001b[0;34m)\u001b[0m\u001b[0;34m:\u001b[0m\u001b[0;34m\u001b[0m\u001b[0;34m\u001b[0m\u001b[0m\n\u001b[0;32m--> 103\u001b[0;31m                         \u001b[0mself\u001b[0m\u001b[0;34m.\u001b[0m\u001b[0minput_from_file\u001b[0m\u001b[0;34m(\u001b[0m\u001b[0mself\u001b[0m\u001b[0;34m.\u001b[0m\u001b[0mdelta_energy_results_file\u001b[0m\u001b[0;34m,\u001b[0m\u001b[0;32mFalse\u001b[0m\u001b[0;34m)\u001b[0m\u001b[0;34m\u001b[0m\u001b[0;34m\u001b[0m\u001b[0m\n\u001b[0m\u001b[1;32m    104\u001b[0m                 \u001b[0;32melif\u001b[0m \u001b[0mself\u001b[0m\u001b[0;34m.\u001b[0m\u001b[0mmanual_mode\u001b[0m \u001b[0;32mand\u001b[0m \u001b[0mos\u001b[0m\u001b[0;34m.\u001b[0m\u001b[0mpath\u001b[0m\u001b[0;34m.\u001b[0m\u001b[0mexists\u001b[0m\u001b[0;34m(\u001b[0m\u001b[0mself\u001b[0m\u001b[0;34m.\u001b[0m\u001b[0minput_information_file\u001b[0m\u001b[0;34m)\u001b[0m\u001b[0;34m:\u001b[0m\u001b[0;34m\u001b[0m\u001b[0;34m\u001b[0m\u001b[0m\n\u001b[1;32m    105\u001b[0m                         \u001b[0mself\u001b[0m\u001b[0;34m.\u001b[0m\u001b[0minput_from_file\u001b[0m\u001b[0;34m(\u001b[0m\u001b[0mself\u001b[0m\u001b[0;34m.\u001b[0m\u001b[0minput_information_file\u001b[0m\u001b[0;34m,\u001b[0m   \u001b[0;32mTrue\u001b[0m\u001b[0;34m)\u001b[0m\u001b[0;34m\u001b[0m\u001b[0;34m\u001b[0m\u001b[0m\n",
      "\u001b[0;32m~/Desktop/GoogleDrive/PhDWork/Programs/Annas_Interpolation_Scheme/NISP_v1.2.0/NISP/NISP/Run_Interpolation_Scheme.py\u001b[0m in \u001b[0;36minput_from_file\u001b[0;34m(self, input_file, manual_mode_file_found)\u001b[0m\n\u001b[1;32m    308\u001b[0m                                 \u001b[0;32melse\u001b[0m\u001b[0;34m:\u001b[0m\u001b[0;34m\u001b[0m\u001b[0;34m\u001b[0m\u001b[0m\n\u001b[1;32m    309\u001b[0m                                         \u001b[0mdatum\u001b[0m \u001b[0;34m=\u001b[0m \u001b[0mline\u001b[0m\u001b[0;34m.\u001b[0m\u001b[0msplit\u001b[0m\u001b[0;34m(\u001b[0m\u001b[0;34m'\\t'\u001b[0m\u001b[0;34m)\u001b[0m\u001b[0;34m\u001b[0m\u001b[0;34m\u001b[0m\u001b[0m\n\u001b[0;32m--> 310\u001b[0;31m                                         \u001b[0mnoAtoms\u001b[0m \u001b[0;34m=\u001b[0m \u001b[0mint\u001b[0m\u001b[0;34m(\u001b[0m\u001b[0mdatum\u001b[0m\u001b[0;34m[\u001b[0m\u001b[0;36m0\u001b[0m\u001b[0;34m]\u001b[0m\u001b[0;34m)\u001b[0m\u001b[0;34m\u001b[0m\u001b[0;34m\u001b[0m\u001b[0m\n\u001b[0m\u001b[1;32m    311\u001b[0m                                         \u001b[0;32mif\u001b[0m \u001b[0mnoAtoms\u001b[0m \u001b[0;34m>\u001b[0m \u001b[0mself\u001b[0m\u001b[0;34m.\u001b[0m\u001b[0mmaximum_size\u001b[0m\u001b[0;34m:\u001b[0m\u001b[0;34m\u001b[0m\u001b[0;34m\u001b[0m\u001b[0m\n\u001b[1;32m    312\u001b[0m                                                 \u001b[0mself\u001b[0m\u001b[0;34m.\u001b[0m\u001b[0mmaximum_size\u001b[0m \u001b[0;34m=\u001b[0m \u001b[0mnoAtoms\u001b[0m\u001b[0;34m\u001b[0m\u001b[0;34m\u001b[0m\u001b[0m\n",
      "\u001b[0;31mValueError\u001b[0m: invalid literal for int() with base 10: '------------------------------\\n'"
     ]
    }
   ],
   "source": [
    "Run_Interpolation_Scheme(input_information=input_information,output_information=output_information,no_of_cpus=no_of_cpus,filename_prefix=filename_prefix)"
   ]
  },
  {
   "cell_type": "markdown",
   "id": "intellectual-stylus",
   "metadata": {},
   "source": [
    "[Back To Table of Contents](../Organisms_Jupyter_Example.ipynb)"
   ]
  },
  {
   "cell_type": "markdown",
   "id": "fabulous-adoption",
   "metadata": {},
   "source": [
    "## Post-processing data"
   ]
  },
  {
   "cell_type": "markdown",
   "id": "unlimited-treatment",
   "metadata": {},
   "source": [
    "Once NISP is finished, it prints out a bunch of files. These include:\n",
    "\n",
    "* Pt_Max_Size_1000_atoms_interpolation_scheme_input_file.txt - This file includes all the clusters that were made which you can manually add the locally optimised energies of.\n",
    "* A folder called ``clusters`` which contained all the clusters that you would want to locally optimise and get the energies of.\n",
    "\n",
    "See the file explorer on the right of this jupyter lab webpage to take a look at them. \n",
    "Below is an example of the interpolation scheme including lines to show how to make the open shell cl"
   ]
  },
  {
   "cell_type": "code",
   "execution_count": null,
   "id": "ranking-refund",
   "metadata": {},
   "outputs": [],
   "source": [
    "filename = 'Pt_Max_Size_1000_atoms_interpolation_scheme_input_file.txt'\n",
    "with open(filename) as myfile:\n",
    "    for line in myfile:\n",
    "        print(line.rstrip())"
   ]
  },
  {
   "cell_type": "markdown",
   "id": "binding-richards",
   "metadata": {},
   "source": [
    "[Back To Table of Contents](../Organisms_Jupyter_Example.ipynb)"
   ]
  }
 ],
 "metadata": {
  "kernelspec": {
   "display_name": "Python 3",
   "language": "python",
   "name": "python3"
  },
  "language_info": {
   "codemirror_mode": {
    "name": "ipython",
    "version": 3
   },
   "file_extension": ".py",
   "mimetype": "text/x-python",
   "name": "python",
   "nbconvert_exporter": "python",
   "pygments_lexer": "ipython3",
   "version": "3.6.9"
  }
 },
 "nbformat": 4,
 "nbformat_minor": 5
}
