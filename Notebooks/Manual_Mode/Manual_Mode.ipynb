{
 "cells": [
  {
   "cell_type": "markdown",
   "id": "afraid-trade",
   "metadata": {},
   "source": [
    "# Using Manual Mode with NISP"
   ]
  },
  {
   "cell_type": "markdown",
   "id": "negative-survivor",
   "metadata": {},
   "source": [
    "[Back To Table of Contents](../Organisms_Jupyter_Example.ipynb)"
   ]
  },
  {
   "cell_type": "markdown",
   "id": "twelve-brisbane",
   "metadata": {},
   "source": [
    "In this example, we will run an example of NISP for the interpolation of Pt with manual mode set to ``'VASP'``. This will create a file called ``Pt_Max_Size_1000_atoms_interpolation_scheme_input_file.txt``. \n",
    "\n",
    "To run this notebook step by step, press the $\\blacktriangleright$ button sequentially on the python code you want to run. You can find the $\\blacktriangleright$ button in the menu bar above. Make sure you have run $\\blacktriangleright$ on every cell before running the ``GA_Program`` execution cell. Equivalently, press the $\\blacktriangleright\\blacktriangleright$ button to completely run this *Run.py* file from beginning to end. You can also find the $\\blacktriangleright\\blacktriangleright$ button in the menu bar above. Jupyter will display a box that will ask you if you want to restart the kernal. Press the <img src=\"../Images/Restart_button.svg\" alt=\"Restart_Button\" width=\"50\"/> button to run the full Jupyter notebook in Python. \n",
    "\n",
    "Note: These are the vanilla settings for running NISP on Au, but feel free to change the settings as you wish.\n",
    "\n",
    "Also note: This program makes files which are created and stored on the Binder server. If you want to rerun this example from scratch, you will need to remove these files. The following block code will do this. This is only needed for this notebook and is not apart of *Interpolation_Script.py* script."
   ]
  },
  {
   "cell_type": "code",
   "execution_count": null,
   "id": "colonial-volunteer",
   "metadata": {},
   "outputs": [],
   "source": [
    "import os\n",
    "from shutil import rmtree\n",
    "to_be_removed_before_restarting_Jupyter_example = []\n",
    "to_be_removed_before_restarting_Jupyter_example += ['clusters']\n",
    "to_be_removed_before_restarting_Jupyter_example += [file for file in os.listdir('.') if file.startswith('Pt_Max_Size_')]\n",
    "for example_file_or_folder in to_be_removed_before_restarting_Jupyter_example:\n",
    "    if os.path.exists(example_file_or_folder):\n",
    "        if os.path.isdir(example_file_or_folder):\n",
    "            rmtree(example_file_or_folder)\n",
    "        else:\n",
    "            os.remove(example_file_or_folder)"
   ]
  },
  {
   "cell_type": "markdown",
   "id": "prescription-topic",
   "metadata": {},
   "source": [
    "The *Run.py* code begins below:"
   ]
  },
  {
   "cell_type": "markdown",
   "id": "offshore-founder",
   "metadata": {},
   "source": [
    "## Importing NISP into script\n",
    "\n",
    "To begin, we need to import NISP into this *Interpolation_Script.py* script. Specifically, we want to import the ``Run_Interpolation_Scheme`` into this *Interpolation_Script.py* script. We will also import a local optimiser that will be used by NISP to interpolar Au. We do this below:"
   ]
  },
  {
   "cell_type": "code",
   "execution_count": null,
   "id": "historical-bonus",
   "metadata": {},
   "outputs": [],
   "source": [
    "from NISP import Run_Interpolation_Scheme \n",
    "from RunMinimisation_Pt import Minimisation_Function\n",
    "\n",
    "input_information = {}\n",
    "input_information['Element Type'] = 'Pt'\n",
    "input_information['Cohesive Energy'] = -5.89233884824\n",
    "input_information['Maximum No. of Atoms'] = 1000\n",
    "input_information['Local Optimiser'] = Minimisation_Function\n",
    "input_information['Manual Mode'] = 'VASP'\n",
    "\n",
    "output_information = {}\n",
    "output_information['Upper No of Atom Range']   = 450\n",
    "output_information['Lower No of Atom Range']   = 350\n",
    "output_information['Upper Delta Energy Range'] = None #2.8\n",
    "output_information['Lower Delta Energy Range'] = None #2.2\n",
    "output_information['Size to Interpolate Over'] = [37,400]#[37,38,44,55,147,40,888,1399]\n",
    "\n",
    "no_of_cpus = 1\n",
    "filename_prefix = ''"
   ]
  },
  {
   "cell_type": "markdown",
   "id": "cardiac-nigeria",
   "metadata": {},
   "source": [
    "[Back To Table of Contents](../Organisms_Jupyter_Example.ipynb)"
   ]
  },
  {
   "cell_type": "markdown",
   "id": "framed-telephone",
   "metadata": {},
   "source": [
    "## Run NISP!\n",
    "\n",
    "You have got to the end of all the parameter setting stuff. Now on to running NISP. The next part of the Interpolation_Script.py script tells NISP to run. This is written as follows in the Interpolation_Script.py. This may take a bit of time to run. "
   ]
  },
  {
   "cell_type": "code",
   "execution_count": null,
   "id": "drawn-debate",
   "metadata": {
    "scrolled": true
   },
   "outputs": [],
   "source": [
    "Run_Interpolation_Scheme(input_information=input_information,output_information=output_information,no_of_cpus=no_of_cpus,filename_prefix=filename_prefix)"
   ]
  },
  {
   "cell_type": "markdown",
   "id": "geological-championship",
   "metadata": {},
   "source": [
    "[Back To Table of Contents](../Organisms_Jupyter_Example.ipynb)"
   ]
  },
  {
   "cell_type": "markdown",
   "id": "general-retreat",
   "metadata": {},
   "source": [
    "## Post-processing data"
   ]
  },
  {
   "cell_type": "markdown",
   "id": "economic-chart",
   "metadata": {},
   "source": [
    "Once NISP is finished, it prints out a bunch of files. These include:\n",
    "\n",
    "* Pt_Max_Size_1000_atoms_interpolation_scheme_input_file.txt - This file includes all the clusters that were made which you can manually add the locally optimised energies of.\n",
    "* A folder called ``clusters`` which contained all the clusters that you would want to locally optimise and get the energies of.\n",
    "\n",
    "See the file explorer on the right of this jupyter lab webpage to take a look at them. \n",
    "\n",
    "Below is an example of the interpolation scheme input file that contains all the closed shell clusters that you need to manually locally optimise and get energies for to finish using the interpolation scheme. "
   ]
  },
  {
   "cell_type": "code",
   "execution_count": null,
   "id": "simplified-palestine",
   "metadata": {},
   "outputs": [],
   "source": [
    "filename = 'Pt_Max_Size_1000_atoms_interpolation_scheme_input_file.txt'\n",
    "with open(filename) as myfile:\n",
    "    for line in myfile:\n",
    "        print(line.rstrip())"
   ]
  },
  {
   "cell_type": "markdown",
   "id": "important-oracle",
   "metadata": {},
   "source": [
    "[Back To Table of Contents](../Organisms_Jupyter_Example.ipynb)"
   ]
  }
 ],
 "metadata": {
  "kernelspec": {
   "display_name": "Python 3",
   "language": "python",
   "name": "python3"
  },
  "language_info": {
   "codemirror_mode": {
    "name": "ipython",
    "version": 3
   },
   "file_extension": ".py",
   "mimetype": "text/x-python",
   "name": "python",
   "nbconvert_exporter": "python",
   "pygments_lexer": "ipython3",
   "version": "3.9.1"
  }
 },
 "nbformat": 4,
 "nbformat_minor": 5
}
