{
 "cells": [
  {
   "cell_type": "markdown",
   "id": "prospective-savannah",
   "metadata": {},
   "source": [
    "# Examples of Running NISP"
   ]
  },
  {
   "cell_type": "markdown",
   "id": "irish-gathering",
   "metadata": {},
   "source": [
    "![PyPI - Python Version](https://img.shields.io/pypi/pyversions/NISP)\n",
    "[![GitHub release (latest by date)](https://img.shields.io/github/v/release/GardenGroupUO/NISP)](https://github.com/GardenGroupUO/NISP)\n",
    "[![PyPI](https://img.shields.io/pypi/v/NISP)](https://pypi.org/project/NISP/)\n",
    "[![Conda](https://img.shields.io/conda/v/gardengroupuo/nisp)](https://anaconda.org/GardenGroupUO/nisp)\n",
    "[![Documentation Status](https://readthedocs.org/projects/nisp/badge/?version=latest)](https://nisp.readthedocs.io/en/latest/)\n",
    "![GitHub](https://img.shields.io/github/license/GardenGroupUO/NISP)"
   ]
  },
  {
   "cell_type": "markdown",
   "id": "occupied-stereo",
   "metadata": {},
   "source": [
    "This Jupyter notebook contains a number of python scripts with annotations that can be used to learn about how to run the interpolation scheme with NISP. \n",
    "\n",
    "The Nanocluster Interpolation Scheme Program (NISP) is designed to perform an interpolation scheme that can give an idea of icosahedral, decahedral, and octahedral clusters that can be formed with a given number of atoms. \n",
    "\n",
    "This scheme is based on the work by Garden et al. as described in \"Reassignment of ‘magic numbers’ for Au clusters of decahedral and FCC structural motifs\", \n",
    "\n",
    "    A. L. Garden, A. Pedersen, H. Jónsson, “Reassignment of ‘magic numbers’ of decahdral and FCC structural motifs”, Nanoscale, 10, 5124-5132 (2018).\n",
    "\n",
    "See https://doi.org/10.1039/C7NR09440J for more information on this scheme."
   ]
  },
  {
   "cell_type": "markdown",
   "id": "unlike-riverside",
   "metadata": {},
   "source": [
    "Click on any of the following links to open up a new tab with a new Jupyter notebook that gives an example of using NISP. "
   ]
  },
  {
   "cell_type": "markdown",
   "id": "sharing-vitamin",
   "metadata": {},
   "source": [
    "[Basic Example](./Basic_Example/Basic_Example.ipynb)\n",
    "\n",
    "[Manual Mode](./Manual_Mode/Manual_Mode.ipynb)"
   ]
  }
 ],
 "metadata": {
  "kernelspec": {
   "display_name": "Python 3",
   "language": "python",
   "name": "python3"
  },
  "language_info": {
   "codemirror_mode": {
    "name": "ipython",
    "version": 3
   },
   "file_extension": ".py",
   "mimetype": "text/x-python",
   "name": "python",
   "nbconvert_exporter": "python",
   "pygments_lexer": "ipython3",
   "version": "3.6.9"
  }
 },
 "nbformat": 4,
 "nbformat_minor": 5
}
